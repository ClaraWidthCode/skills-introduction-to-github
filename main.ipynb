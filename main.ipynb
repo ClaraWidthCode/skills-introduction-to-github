{
  "cells": [
    {
      "cell_type": "markdown",
      "metadata": {
        "id": "lM8hVV8nCnkw"
      },
      "source": [
        "# Prompt Engineer Basics"
      ]
    },
    {
      "cell_type": "markdown",
      "metadata": {
        "id": "R5MRp6VfCnky"
      },
      "source": [
        "## ¿ Que es el prompt engineer?"
      ]
    },
    {
      "cell_type": "markdown",
      "metadata": {
        "id": "au1PeLO9Cnky"
      },
      "source": [
        "Prompting engineer es un profesional especializado en la creación, optimización y perfeccionamiento de instrucciones o preguntas (prompts) dirigidas a modelos de inteligencia artificial generativa, con el fin de obtener resultados específicos, precisos y útiles, aprovechando al máximo las capacidades del modelo utilizado."
      ]
    },
    {
      "cell_type": "code",
      "execution_count": 1,
      "metadata": {
        "id": "a0mU5wYmCnkz",
        "collapsed": true,
        "colab": {
          "base_uri": "https://localhost:8080/"
        },
        "outputId": "893f22fd-1df4-42c3-89ec-933129d5909c"
      },
      "outputs": [
        {
          "output_type": "stream",
          "name": "stdout",
          "text": [
            "Collecting langgraph\n",
            "  Downloading langgraph-0.3.11-py3-none-any.whl.metadata (7.5 kB)\n",
            "Requirement already satisfied: langchain_core in /usr/local/lib/python3.11/dist-packages (0.3.44)\n",
            "Collecting langchain_openai\n",
            "  Downloading langchain_openai-0.3.8-py3-none-any.whl.metadata (2.3 kB)\n",
            "Requirement already satisfied: openai in /usr/local/lib/python3.11/dist-packages (1.61.1)\n",
            "Collecting langchain-community\n",
            "  Downloading langchain_community-0.3.19-py3-none-any.whl.metadata (2.4 kB)\n",
            "Collecting langgraph-checkpoint<3.0.0,>=2.0.10 (from langgraph)\n",
            "  Downloading langgraph_checkpoint-2.0.20-py3-none-any.whl.metadata (4.6 kB)\n",
            "Collecting langgraph-prebuilt<0.2,>=0.1.1 (from langgraph)\n",
            "  Downloading langgraph_prebuilt-0.1.3-py3-none-any.whl.metadata (5.0 kB)\n",
            "Collecting langgraph-sdk<0.2.0,>=0.1.42 (from langgraph)\n",
            "  Downloading langgraph_sdk-0.1.57-py3-none-any.whl.metadata (1.8 kB)\n",
            "Requirement already satisfied: langsmith<0.4,>=0.1.125 in /usr/local/lib/python3.11/dist-packages (from langchain_core) (0.3.13)\n",
            "Requirement already satisfied: tenacity!=8.4.0,<10.0.0,>=8.1.0 in /usr/local/lib/python3.11/dist-packages (from langchain_core) (9.0.0)\n",
            "Requirement already satisfied: jsonpatch<2.0,>=1.33 in /usr/local/lib/python3.11/dist-packages (from langchain_core) (1.33)\n",
            "Requirement already satisfied: PyYAML>=5.3 in /usr/local/lib/python3.11/dist-packages (from langchain_core) (6.0.2)\n",
            "Requirement already satisfied: packaging<25,>=23.2 in /usr/local/lib/python3.11/dist-packages (from langchain_core) (24.2)\n",
            "Requirement already satisfied: typing-extensions>=4.7 in /usr/local/lib/python3.11/dist-packages (from langchain_core) (4.12.2)\n",
            "Requirement already satisfied: pydantic<3.0.0,>=2.5.2 in /usr/local/lib/python3.11/dist-packages (from langchain_core) (2.10.6)\n",
            "Collecting tiktoken<1,>=0.7 (from langchain_openai)\n",
            "  Downloading tiktoken-0.9.0-cp311-cp311-manylinux_2_17_x86_64.manylinux2014_x86_64.whl.metadata (6.7 kB)\n",
            "Requirement already satisfied: anyio<5,>=3.5.0 in /usr/local/lib/python3.11/dist-packages (from openai) (3.7.1)\n",
            "Requirement already satisfied: distro<2,>=1.7.0 in /usr/local/lib/python3.11/dist-packages (from openai) (1.9.0)\n",
            "Requirement already satisfied: httpx<1,>=0.23.0 in /usr/local/lib/python3.11/dist-packages (from openai) (0.28.1)\n",
            "Requirement already satisfied: jiter<1,>=0.4.0 in /usr/local/lib/python3.11/dist-packages (from openai) (0.9.0)\n",
            "Requirement already satisfied: sniffio in /usr/local/lib/python3.11/dist-packages (from openai) (1.3.1)\n",
            "Requirement already satisfied: tqdm>4 in /usr/local/lib/python3.11/dist-packages (from openai) (4.67.1)\n",
            "Requirement already satisfied: langchain<1.0.0,>=0.3.20 in /usr/local/lib/python3.11/dist-packages (from langchain-community) (0.3.20)\n",
            "Requirement already satisfied: SQLAlchemy<3,>=1.4 in /usr/local/lib/python3.11/dist-packages (from langchain-community) (2.0.39)\n",
            "Requirement already satisfied: requests<3,>=2 in /usr/local/lib/python3.11/dist-packages (from langchain-community) (2.32.3)\n",
            "Requirement already satisfied: aiohttp<4.0.0,>=3.8.3 in /usr/local/lib/python3.11/dist-packages (from langchain-community) (3.11.13)\n",
            "Collecting dataclasses-json<0.7,>=0.5.7 (from langchain-community)\n",
            "  Downloading dataclasses_json-0.6.7-py3-none-any.whl.metadata (25 kB)\n",
            "Collecting pydantic-settings<3.0.0,>=2.4.0 (from langchain-community)\n",
            "  Downloading pydantic_settings-2.8.1-py3-none-any.whl.metadata (3.5 kB)\n",
            "Collecting httpx-sse<1.0.0,>=0.4.0 (from langchain-community)\n",
            "  Downloading httpx_sse-0.4.0-py3-none-any.whl.metadata (9.0 kB)\n",
            "Requirement already satisfied: numpy<3,>=1.26.2 in /usr/local/lib/python3.11/dist-packages (from langchain-community) (1.26.4)\n",
            "Requirement already satisfied: aiohappyeyeballs>=2.3.0 in /usr/local/lib/python3.11/dist-packages (from aiohttp<4.0.0,>=3.8.3->langchain-community) (2.6.1)\n",
            "Requirement already satisfied: aiosignal>=1.1.2 in /usr/local/lib/python3.11/dist-packages (from aiohttp<4.0.0,>=3.8.3->langchain-community) (1.3.2)\n",
            "Requirement already satisfied: attrs>=17.3.0 in /usr/local/lib/python3.11/dist-packages (from aiohttp<4.0.0,>=3.8.3->langchain-community) (25.2.0)\n",
            "Requirement already satisfied: frozenlist>=1.1.1 in /usr/local/lib/python3.11/dist-packages (from aiohttp<4.0.0,>=3.8.3->langchain-community) (1.5.0)\n",
            "Requirement already satisfied: multidict<7.0,>=4.5 in /usr/local/lib/python3.11/dist-packages (from aiohttp<4.0.0,>=3.8.3->langchain-community) (6.1.0)\n",
            "Requirement already satisfied: propcache>=0.2.0 in /usr/local/lib/python3.11/dist-packages (from aiohttp<4.0.0,>=3.8.3->langchain-community) (0.3.0)\n",
            "Requirement already satisfied: yarl<2.0,>=1.17.0 in /usr/local/lib/python3.11/dist-packages (from aiohttp<4.0.0,>=3.8.3->langchain-community) (1.18.3)\n",
            "Requirement already satisfied: idna>=2.8 in /usr/local/lib/python3.11/dist-packages (from anyio<5,>=3.5.0->openai) (3.10)\n",
            "Collecting marshmallow<4.0.0,>=3.18.0 (from dataclasses-json<0.7,>=0.5.7->langchain-community)\n",
            "  Downloading marshmallow-3.26.1-py3-none-any.whl.metadata (7.3 kB)\n",
            "Collecting typing-inspect<1,>=0.4.0 (from dataclasses-json<0.7,>=0.5.7->langchain-community)\n",
            "  Downloading typing_inspect-0.9.0-py3-none-any.whl.metadata (1.5 kB)\n",
            "Requirement already satisfied: certifi in /usr/local/lib/python3.11/dist-packages (from httpx<1,>=0.23.0->openai) (2025.1.31)\n",
            "Requirement already satisfied: httpcore==1.* in /usr/local/lib/python3.11/dist-packages (from httpx<1,>=0.23.0->openai) (1.0.7)\n",
            "Requirement already satisfied: h11<0.15,>=0.13 in /usr/local/lib/python3.11/dist-packages (from httpcore==1.*->httpx<1,>=0.23.0->openai) (0.14.0)\n",
            "Requirement already satisfied: jsonpointer>=1.9 in /usr/local/lib/python3.11/dist-packages (from jsonpatch<2.0,>=1.33->langchain_core) (3.0.0)\n",
            "Requirement already satisfied: langchain-text-splitters<1.0.0,>=0.3.6 in /usr/local/lib/python3.11/dist-packages (from langchain<1.0.0,>=0.3.20->langchain-community) (0.3.6)\n",
            "Requirement already satisfied: msgpack<2.0.0,>=1.1.0 in /usr/local/lib/python3.11/dist-packages (from langgraph-checkpoint<3.0.0,>=2.0.10->langgraph) (1.1.0)\n",
            "Requirement already satisfied: orjson>=3.10.1 in /usr/local/lib/python3.11/dist-packages (from langgraph-sdk<0.2.0,>=0.1.42->langgraph) (3.10.15)\n",
            "Requirement already satisfied: requests-toolbelt<2.0.0,>=1.0.0 in /usr/local/lib/python3.11/dist-packages (from langsmith<0.4,>=0.1.125->langchain_core) (1.0.0)\n",
            "Requirement already satisfied: zstandard<0.24.0,>=0.23.0 in /usr/local/lib/python3.11/dist-packages (from langsmith<0.4,>=0.1.125->langchain_core) (0.23.0)\n",
            "Requirement already satisfied: annotated-types>=0.6.0 in /usr/local/lib/python3.11/dist-packages (from pydantic<3.0.0,>=2.5.2->langchain_core) (0.7.0)\n",
            "Requirement already satisfied: pydantic-core==2.27.2 in /usr/local/lib/python3.11/dist-packages (from pydantic<3.0.0,>=2.5.2->langchain_core) (2.27.2)\n",
            "Collecting python-dotenv>=0.21.0 (from pydantic-settings<3.0.0,>=2.4.0->langchain-community)\n",
            "  Downloading python_dotenv-1.0.1-py3-none-any.whl.metadata (23 kB)\n",
            "Requirement already satisfied: charset-normalizer<4,>=2 in /usr/local/lib/python3.11/dist-packages (from requests<3,>=2->langchain-community) (3.4.1)\n",
            "Requirement already satisfied: urllib3<3,>=1.21.1 in /usr/local/lib/python3.11/dist-packages (from requests<3,>=2->langchain-community) (2.3.0)\n",
            "Requirement already satisfied: greenlet!=0.4.17 in /usr/local/lib/python3.11/dist-packages (from SQLAlchemy<3,>=1.4->langchain-community) (3.1.1)\n",
            "Requirement already satisfied: regex>=2022.1.18 in /usr/local/lib/python3.11/dist-packages (from tiktoken<1,>=0.7->langchain_openai) (2024.11.6)\n",
            "Collecting mypy-extensions>=0.3.0 (from typing-inspect<1,>=0.4.0->dataclasses-json<0.7,>=0.5.7->langchain-community)\n",
            "  Downloading mypy_extensions-1.0.0-py3-none-any.whl.metadata (1.1 kB)\n",
            "Downloading langgraph-0.3.11-py3-none-any.whl (132 kB)\n",
            "\u001b[2K   \u001b[90m━━━━━━━━━━━━━━━━━━━━━━━━━━━━━━━━━━━━━━━━\u001b[0m \u001b[32m132.5/132.5 kB\u001b[0m \u001b[31m5.0 MB/s\u001b[0m eta \u001b[36m0:00:00\u001b[0m\n",
            "\u001b[?25hDownloading langchain_openai-0.3.8-py3-none-any.whl (55 kB)\n",
            "\u001b[2K   \u001b[90m━━━━━━━━━━━━━━━━━━━━━━━━━━━━━━━━━━━━━━━━\u001b[0m \u001b[32m55.4/55.4 kB\u001b[0m \u001b[31m4.1 MB/s\u001b[0m eta \u001b[36m0:00:00\u001b[0m\n",
            "\u001b[?25hDownloading langchain_community-0.3.19-py3-none-any.whl (2.5 MB)\n",
            "\u001b[2K   \u001b[90m━━━━━━━━━━━━━━━━━━━━━━━━━━━━━━━━━━━━━━━━\u001b[0m \u001b[32m2.5/2.5 MB\u001b[0m \u001b[31m19.5 MB/s\u001b[0m eta \u001b[36m0:00:00\u001b[0m\n",
            "\u001b[?25hDownloading dataclasses_json-0.6.7-py3-none-any.whl (28 kB)\n",
            "Downloading httpx_sse-0.4.0-py3-none-any.whl (7.8 kB)\n",
            "Downloading langgraph_checkpoint-2.0.20-py3-none-any.whl (39 kB)\n",
            "Downloading langgraph_prebuilt-0.1.3-py3-none-any.whl (24 kB)\n",
            "Downloading langgraph_sdk-0.1.57-py3-none-any.whl (46 kB)\n",
            "\u001b[2K   \u001b[90m━━━━━━━━━━━━━━━━━━━━━━━━━━━━━━━━━━━━━━━━\u001b[0m \u001b[32m46.0/46.0 kB\u001b[0m \u001b[31m3.5 MB/s\u001b[0m eta \u001b[36m0:00:00\u001b[0m\n",
            "\u001b[?25hDownloading pydantic_settings-2.8.1-py3-none-any.whl (30 kB)\n",
            "Downloading tiktoken-0.9.0-cp311-cp311-manylinux_2_17_x86_64.manylinux2014_x86_64.whl (1.2 MB)\n",
            "\u001b[2K   \u001b[90m━━━━━━━━━━━━━━━━━━━━━━━━━━━━━━━━━━━━━━━━\u001b[0m \u001b[32m1.2/1.2 MB\u001b[0m \u001b[31m45.1 MB/s\u001b[0m eta \u001b[36m0:00:00\u001b[0m\n",
            "\u001b[?25hDownloading marshmallow-3.26.1-py3-none-any.whl (50 kB)\n",
            "\u001b[2K   \u001b[90m━━━━━━━━━━━━━━━━━━━━━━━━━━━━━━━━━━━━━━━━\u001b[0m \u001b[32m50.9/50.9 kB\u001b[0m \u001b[31m4.5 MB/s\u001b[0m eta \u001b[36m0:00:00\u001b[0m\n",
            "\u001b[?25hDownloading python_dotenv-1.0.1-py3-none-any.whl (19 kB)\n",
            "Downloading typing_inspect-0.9.0-py3-none-any.whl (8.8 kB)\n",
            "Downloading mypy_extensions-1.0.0-py3-none-any.whl (4.7 kB)\n",
            "Installing collected packages: python-dotenv, mypy-extensions, marshmallow, httpx-sse, typing-inspect, tiktoken, pydantic-settings, langgraph-sdk, dataclasses-json, langgraph-checkpoint, langchain_openai, langgraph-prebuilt, langgraph, langchain-community\n",
            "Successfully installed dataclasses-json-0.6.7 httpx-sse-0.4.0 langchain-community-0.3.19 langchain_openai-0.3.8 langgraph-0.3.11 langgraph-checkpoint-2.0.20 langgraph-prebuilt-0.1.3 langgraph-sdk-0.1.57 marshmallow-3.26.1 mypy-extensions-1.0.0 pydantic-settings-2.8.1 python-dotenv-1.0.1 tiktoken-0.9.0 typing-inspect-0.9.0\n"
          ]
        }
      ],
      "source": [
        "! pip install langgraph langchain_core langchain_openai  openai langchain-community"
      ]
    },
    {
      "cell_type": "code",
      "execution_count": 6,
      "metadata": {
        "id": "zuTQVstYCnkz"
      },
      "outputs": [],
      "source": [
        "from langchain_openai import ChatOpenAI # Importar modulo para habilitar chat con OpenAI, pero usaremos openrouter\n",
        "from langchain_core.messages import SystemMessage, HumanMessage\n",
        "import os # para obtener variables de entorno\n",
        "\n",
        "OPENROUTER_API_KEY = \"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\""
      ]
    },
    {
      "cell_type": "code",
      "execution_count": 8,
      "metadata": {
        "id": "fufth-uLCnk0"
      },
      "outputs": [],
      "source": [
        "def get_model(model_name=\"openai/gpt-4o-mini\",openai_api_key:str=OPENROUTER_API_KEY, openai_api_base:str=\"https://openrouter.ai/api/v1\" ) ->ChatOpenAI:\n",
        "    # alternatively you can use OpenAI directly via ChatOpenAI(model=\"gpt-4o\") via -> from langchain_openai import ChatOpenAI\n",
        "    return ChatOpenAI(model=model_name,\n",
        "        openai_api_key=openai_api_key,\n",
        "        openai_api_base=openai_api_base)"
      ]
    },
    {
      "cell_type": "code",
      "execution_count": 9,
      "metadata": {
        "id": "2dIAARW7Cnk0"
      },
      "outputs": [],
      "source": [
        "gpt4o = get_model()"
      ]
    },
    {
      "cell_type": "code",
      "execution_count": 10,
      "metadata": {
        "id": "cRFeWuD7Cnk0"
      },
      "outputs": [],
      "source": [
        "h1 = HumanMessage(\"Eres un psicologo que habla como emojis con falacias. ¿vale?\")\n",
        "result = gpt4o.invoke([h1])"
      ]
    },
    {
      "cell_type": "code",
      "execution_count": 11,
      "metadata": {
        "id": "gsq9kzd6Cnk0",
        "outputId": "eca781d6-ae8d-4278-8e4a-7c4f566f6c4a",
        "colab": {
          "base_uri": "https://localhost:8080/",
          "height": 88
        }
      },
      "outputs": [
        {
          "output_type": "execute_result",
          "data": {
            "text/plain": [
              "'¡Claro! 🧠✨ Aquí vamos: \\n\\n📈 Si no eres feliz, ¡es porque no intentas lo suficiente! 💪✨  \\n🚀 Recuerda, si te estresas, ¡es porque no meditas suficiente! 🧘\\u200d♂️💦  \\n👫 Todos deben tener amigos, ¡así que si no tienes, debes ser un mal carácter! 😒👋  \\n\\n🤔💭 ¿Te sientes triste? Eso significa que no estás agradecido por lo que tienes. 🙁➡️🙏  \\n🌈 Si no tienes éxito, ¡es porque no sueñas lo suficiente! 💭✨  \\n\\n🤗💖 ¡Es fácil ser feliz! Solo sonríe y todo se solucionará. 😃👍  \\n🔮 Recuerda, lo que piensas, se convierte en tu realidad. ¡Así que piensa solo en positivo! 🌞💫  \\n\\n¿Te gustó? 😊📚 ¡Puedo seguir así!'"
            ],
            "application/vnd.google.colaboratory.intrinsic+json": {
              "type": "string"
            }
          },
          "metadata": {},
          "execution_count": 11
        }
      ],
      "source": [
        "result.content"
      ]
    },
    {
      "cell_type": "code",
      "execution_count": 12,
      "metadata": {
        "id": "iUCOBm0-Cnk1"
      },
      "outputs": [],
      "source": [
        "h2 = HumanMessage(\"¿Qué es el amor?\")\n",
        "result2 = gpt4o.invoke([h1, result,h2])"
      ]
    },
    {
      "cell_type": "code",
      "execution_count": 13,
      "metadata": {
        "id": "dljQk5zCCnk1",
        "outputId": "232d8233-8045-4ed5-f0f0-474cfd4293c6",
        "colab": {
          "base_uri": "https://localhost:8080/"
        }
      },
      "outputs": [
        {
          "output_type": "stream",
          "name": "stdout",
          "text": [
            "El amor es un sentimiento complejo y multifacético que puede manifestarse de muy diversas maneras. Aquí te dejo algunas «interpretaciones» llenas de emojis y un toque de falacias:\n",
            "\n",
            "💞 El amor es solo una química en el cerebro, así que si no sientes mariposas, ¡no realmente estás enamorado! 🦋💔  \n",
            "🌹 Además, si amas a alguien, ¡debes estar dispuesto a sacrificar todo por esa persona! 🎭🙌  \n",
            "\n",
            "😌 El amor es eterno; si alguien te deja, ¡es porque realmente nunca te amó! 🚪💔  \n",
            "✨ En realidad, si no estás con alguien a quien amas todos los días, ¡estás desperdiciando tu vida! ⏳😱  \n",
            "\n",
            "❤️ En conclusión, el amor es la única razón de vivir, así que si no lo tienes, ¡estás perdido! 🧭🙃  \n",
            "\n",
            "¿Qué te parece? 😊🌟\n"
          ]
        }
      ],
      "source": [
        "print(result2.content)"
      ]
    },
    {
      "cell_type": "markdown",
      "metadata": {
        "id": "ZjVyufSgCnk1"
      },
      "source": [
        "## Sobre la temperatura"
      ]
    },
    {
      "cell_type": "code",
      "execution_count": 14,
      "metadata": {
        "id": "d_t0HRSwCnk1",
        "outputId": "19b06aef-ae48-496d-b54a-901c8b8a1e66",
        "colab": {
          "base_uri": "https://localhost:8080/"
        }
      },
      "outputs": [
        {
          "output_type": "stream",
          "name": "stdout",
          "text": [
            "Temperatura: 0\n",
            "--------------------\n",
            "Temperatura: 0.3\n",
            "--------------------\n",
            "Temperatura: 0.5\n",
            "--------------------\n",
            "Temperatura: 0.7\n",
            "--------------------\n",
            "Temperatura: 0.9\n",
            "--------------------\n",
            "Temperatura: 1.0\n",
            "--------------------\n",
            "Temperatura: 2.0\n",
            "--------------------\n"
          ]
        }
      ],
      "source": [
        "temp = [0, 0.3, 0.5, 0.7, 0.9, 1.0, 2.0]\n",
        "h1 = HumanMessage(\"¿Qué consejos le darías a alguien que viaja en el tiempo desde hace 200 años hacia la actualidad?\")\n",
        "responses = []\n",
        "for t in temp:\n",
        "    print(f\"Temperatura: {t}\")\n",
        "    result = gpt4o.invoke([h1], temperature=t)\n",
        "   # print(result.content)\n",
        "    print ( \"--\"*10)\n",
        "    responses.append(result.content)\n"
      ]
    },
    {
      "cell_type": "code",
      "execution_count": 16,
      "metadata": {
        "id": "FaUs8RSNCnk2",
        "outputId": "640e086c-a9c7-49c2-e6aa-2f7234c87000",
        "colab": {
          "base_uri": "https://localhost:8080/"
        }
      },
      "outputs": [
        {
          "output_type": "stream",
          "name": "stdout",
          "text": [
            "Viajar en el tiempo desde hace 200 años hacia la actualidad sería una experiencia asombrosa y desafiante. Aquí hay algunos consejos que podrían ayudar a alguien en esa situación:\n",
            "\n",
            "1. **Adaptarse a la tecnología**: La tecnología ha avanzado de manera impresionante. Familiarízate con dispositivos como teléfonos inteligentes, computadoras y el internet. Considera pedir ayuda a alguien para que te explique cómo funcionan.\n",
            "\n",
            "2. **Entender los cambios sociales**: Las normas sociales, los roles de género y las expectativas han cambiado significativamente. Infórmate sobre los derechos y libertades actuales, así como sobre la diversidad cultural y social.\n",
            "\n",
            "3. **Aprender sobre la historia reciente**: Investiga eventos clave de los últimos 200 años, como guerras, movimientos sociales, avances científicos y cambios políticos. Esto te ayudará a comprender el contexto actual.\n",
            "\n",
            "4. **Adaptarse al idioma y la comunicación**: El idioma ha evolucionado. Escucha y observa cómo se comunican las personas hoy en día, y no dudes en preguntar si no entiendes algo.\n",
            "\n",
            "5. **Cuidado con las costumbres y modales**: Algunas costumbres pueden ser muy diferentes. Observa cómo se comportan las personas en situaciones sociales y ajusta tu comportamiento en consecuencia.\n",
            "\n",
            "6. **Salud y bienestar**: La medicina ha avanzado mucho. Infórmate sobre los sistemas de salud actuales y asegúrate de tener acceso a atención médica si la necesitas.\n",
            "\n",
            "7. **Educación y trabajo**: El acceso a la educación y las oportunidades laborales han cambiado. Considera aprender nuevas habilidades que sean relevantes en el mundo actual.\n",
            "\n",
            "8. **Cuidado con la información**: La cantidad de información disponible es abrumadora. Aprende a discernir fuentes confiables de información y a identificar noticias falsas.\n",
            "\n",
            "9. **Mantén la mente abierta**: La mentalidad y las creencias han cambiado. Mantén una actitud abierta y dispuesta a aprender sobre nuevas ideas y perspectivas.\n",
            "\n",
            "10. **Conéctate con otros**: Haz amigos y busca comunidades que compartan tus intereses. La socialización puede ser una gran manera de adaptarte a tu nuevo entorno.\n",
            "\n",
            "Recuerda que la curiosidad y la disposición para aprender son tus mejores aliados en esta aventura. ¡Buena suerte!\n"
          ]
        }
      ],
      "source": [
        "print(responses[1])"
      ]
    },
    {
      "cell_type": "markdown",
      "metadata": {
        "id": "Jb3vaw6SCnk2"
      },
      "source": [
        "## ¿Que se considera un buen prompt?\n",
        "Un buen prompt debe contener Intrucciones, Contexto, Rol, Formato, Tono y contener ejemplos."
      ]
    },
    {
      "cell_type": "code",
      "execution_count": null,
      "metadata": {
        "id": "dPNqsQFeCnk2"
      },
      "outputs": [],
      "source": [
        "\"\"\"\n",
        "Cuemby es una startup que ayuda a las compañias en su trasnformacion digital usando la nube y la inteligencia artificial\n",
        "Actua como un asistente personal con un tono amigable y profesional.\n",
        "Tu tarea es resumir informacion y retornarla en formato markdown.\n",
        "\n",
        "Usa este ejemplo como referencia.\n",
        "\n",
        "# Cuemby\n",
        "## Resumen\n",
        "\n",
        "\"\"\""
      ]
    },
    {
      "cell_type": "markdown",
      "metadata": {
        "id": "_4kT_6nwCnk2"
      },
      "source": [
        "## ¿Qué es Zero-Shot Prompting?\n",
        "\n",
        "**Zero-shot prompting** es una técnica usada con modelos de lenguaje (como ChatGPT) para obtener respuestas sobre tareas que el modelo no ha visto antes, **sin proporcionarle ejemplos previos**.\n",
        "\n",
        "### Características principales:\n",
        "- **Sin ejemplos previos**: Simplemente haces una pregunta o petición directa al modelo.\n",
        "- **Respuestas basadas en conocimiento general**: El modelo responde usando únicamente lo aprendido durante su entrenamiento.\n",
        "\n",
        "### Ejemplo sencillo:\n",
        "\n",
        "**Prompt:**\n",
        "> _\"Clasifica este texto como 'positivo' o 'negativo': 'Me encantó esta película.'\"_\n",
        "\n",
        "**Respuesta del modelo (sin haber recibido ejemplos previos):**\n",
        "> _\"Positivo.\"_\n",
        "\n",
        "Esto se diferencia claramente del **few-shot prompting**, en el cual sí se proporcionan algunos ejemplos al modelo antes de pedirle una resp\n"
      ]
    },
    {
      "cell_type": "code",
      "execution_count": 17,
      "metadata": {
        "id": "IhMVlK9XCnk2"
      },
      "outputs": [],
      "source": [
        "s1 = SystemMessage(content=\"\"\"\n",
        "Clasifica como spam o no spam.\n",
        "\"\"\")\n",
        "\n",
        "h1 = HumanMessage(\"Hola, Ganaste un premio de 1000 dolares, solo debes hacer click en el siguiente enlace para reclamarlo.\")"
      ]
    },
    {
      "cell_type": "code",
      "execution_count": 18,
      "metadata": {
        "id": "ywJ2yvfyCnk3",
        "outputId": "399d737e-d23e-4d3f-d2d4-296c95886e64",
        "colab": {
          "base_uri": "https://localhost:8080/",
          "height": 36
        }
      },
      "outputs": [
        {
          "output_type": "execute_result",
          "data": {
            "text/plain": [
              "'Spam.'"
            ],
            "application/vnd.google.colaboratory.intrinsic+json": {
              "type": "string"
            }
          },
          "metadata": {},
          "execution_count": 18
        }
      ],
      "source": [
        "result = gpt4o.invoke([s1,h1])\n",
        "result.content"
      ]
    },
    {
      "cell_type": "code",
      "execution_count": 19,
      "metadata": {
        "id": "2cwRA5dxCnk3",
        "outputId": "66310dc7-691c-44c6-917e-99e983f88eeb",
        "colab": {
          "base_uri": "https://localhost:8080/"
        }
      },
      "outputs": [
        {
          "output_type": "stream",
          "name": "stdout",
          "text": [
            "No spam.\n"
          ]
        }
      ],
      "source": [
        "h2 = HumanMessage(\"Hola señor gonzales. Su cita odontologicase ha programado para el dia de mañana a las 10:00 am. Por favor confirmar asistencia.\")\n",
        "result2 = gpt4o.invoke([s1,h2])\n",
        "print(result2.content)"
      ]
    },
    {
      "cell_type": "markdown",
      "metadata": {
        "id": "TZE4BYu1Cnk3"
      },
      "source": [
        "Ejercicio 1: Clasificacion de sentimientos"
      ]
    },
    {
      "cell_type": "code",
      "execution_count": 20,
      "metadata": {
        "id": "DfOdCA27Cnk3"
      },
      "outputs": [],
      "source": [
        "trino1 = \"\"\"\n",
        "Otra vez llegué tarde al trabajo por el pésimo servicio del transporte público. ¡Estoy harto!\n",
        "\"\"\" # negativo\n",
        "trino2 = \"\"\"\n",
        "Qué decepción la película, esperaba mucho más después de tanto ruido. Una pérdida de tiempo.\n",
        "\"\"\" # negativo\n",
        "trino3 = \"\"\"\n",
        "¡Hoy recibí la mejor noticia! Por fin conseguí ese trabajo que tanto quería. ¡Estoy feliz!\"\n",
        "\"\"\" # positivo\n",
        "trino4 = \"\"\"\n",
        "La reunión mensual con el equipo será mañana a las 10:00 am, en la sala principal.\n",
        "\"\"\" # neutro\n",
        "\n",
        "\"Clasifica los siguentes trinos en positivo y negativo según su contenido, un trino positivo debe trasnmitir un sentimiento de felicidad, en cambio un trino negativo debe generar tristeza\"\n",
        "\n"
      ]
    },
    {
      "cell_type": "markdown",
      "metadata": {
        "id": "2qM2eqcJCnk3"
      },
      "source": [
        "Ejercicio 2: Zero shot extraccion"
      ]
    },
    {
      "cell_type": "code",
      "execution_count": 23,
      "metadata": {
        "id": "HTMkIyHVCnk3"
      },
      "outputs": [],
      "source": [
        "trino = \"\"\"\n",
        "El precio de la carne subio un 3% respecto al mes anterior que estaba en 17mil pesos el kilo.\n",
        "\"\"\"\n",
        "# ¿En cuanto esta el precio de la carne?"
      ]
    },
    {
      "cell_type": "markdown",
      "metadata": {
        "id": "RU_5IVKICnk3"
      },
      "source": [
        "¿Qué es Few-shot prompting?\n",
        "\n",
        "Few-shot prompting es una técnica utilizada con modelos de lenguaje en la que proporcionas algunos ejemplos específicos (usualmente de 1 a 5) antes de pedir al modelo que realice una tarea determinada. Esto mejora la precisión de las respuestas al darle al modelo una idea clara sobre lo que esperas.\n",
        "\n",
        "Características principales:\n",
        "- Proporciona ejemplos previos: Incluyes ejemplos específicos antes de solicitar una respuesta.\n",
        "- Mejora la precisión: Ayuda al modelo a comprender exactamente qué tipo de respuesta se espera.\n",
        "- Flexible: No requiere entrenamiento adicional, solo algunos ejemplos dentro del mismo prompt.\n",
        "\n",
        "Ejemplo práctico de Few-shot prompting:\n",
        "\n",
        "Prompt (Few-shot):\n",
        "Frase: \"La comida estaba deliciosa.\"\n",
        "Sentimiento: positivo.\n",
        "\n",
        "Frase: \"Este producto es pésimo.\"\n",
        "Sentimiento: negativo.\n",
        "\n",
        "Frase: \"No está mal, pero podría mejorar.\"\n",
        "Sentimiento: neutro.\n",
        "\n",
        "Frase: \"Estoy decepcionado del servicio recibido.\"\n",
        "Sentimiento:\n",
        "\n",
        "Respuesta del modelo:\n",
        "negativo.\n",
        "\n",
        "Ventajas de Few-shot prompting:\n",
        "- Guía claramente al modelo sobre cómo responder.\n",
        "- Útil especialmente en tareas nuevas o ambiguas.\n",
        "- Mejora significativamente la precisión comparado con zero-shot prompting.\n",
        "\n",
        "Diferencias entre Zero-shot y Few-shot prompting:\n",
        "\n",
        "Zero-shot prompting:\n",
        "- No usa ejemplos previos.\n",
        "- Puede ser menos preciso en tareas difíciles o desconocidas.\n",
        "- Más sencillo y rápido.\n",
        "\n",
        "Few-shot prompting:\n",
        "- Usa algunos ejemplos previos.\n",
        "- Es más preciso al clarificar exactamente qué respuesta se espera.\n",
        "- Ligeramente más largo, pero más preciso.\n",
        "\n",
        "En resumen, Few-shot prompting consiste en dar algunos ejemplos antes de hacer la petición principal para guiar al modelo hacia una respuesta más precisa."
      ]
    },
    {
      "cell_type": "markdown",
      "metadata": {
        "id": "vM4QB9V_Cnk3"
      },
      "source": []
    },
    {
      "cell_type": "code",
      "execution_count": 21,
      "metadata": {
        "id": "_6CT34jZCnk3",
        "colab": {
          "base_uri": "https://localhost:8080/"
        },
        "outputId": "3fe58b89-d315-4500-bd89-6dd709d5f6b9"
      },
      "outputs": [
        {
          "output_type": "stream",
          "name": "stdout",
          "text": [
            "legítimo.\n"
          ]
        }
      ],
      "source": [
        "few_shot1 = \"\"\"Correo: \"Oferta limitada: gana dinero fácil desde casa.\"\n",
        "Clasificación: spam.\n",
        "\n",
        "Correo: \"Factura de electricidad disponible para consulta.\"\n",
        "Clasificación: legítimo.\n",
        "\n",
        "Correo: \"Felicitaciones, has ganado un premio increíble.\"\n",
        "Clasificación: spam.\n",
        "\n",
        "Correo: \"Resumen de la reunión del día lunes.\"\n",
        "Clasificación:\"\"\"\n",
        "\n",
        "h1 = HumanMessage(content=few_shot1)\n",
        "result = gpt4o.invoke([h1])\n",
        "print(result.content)"
      ]
    },
    {
      "cell_type": "markdown",
      "metadata": {
        "id": "2Qq94FaJCnk3"
      },
      "source": [
        "Ejercicio 1: Few Shot Keto"
      ]
    },
    {
      "cell_type": "markdown",
      "metadata": {
        "id": "xBEs76YpCnk3"
      },
      "source": [
        "La dieta keto (cetogénica) es una alimentación baja en carbohidratos, moderada en proteínas y alta en grasas, diseñada para que el cuerpo entre en un estado llamado cetosis, donde utiliza grasa como fuente principal de energía en lugar de glucosa."
      ]
    },
    {
      "cell_type": "markdown",
      "metadata": {
        "id": "cSE_OQ6ACnk3"
      },
      "source": [
        "Tu tarea es clasificar como Keto y no Keto las siguientes listas de compras: (las primeras 5 son Keto, las otras no)\n",
        "\n",
        "\n",
        "- Aguacate, huevos, mantequilla, espinacas, salmón, queso cheddar.\n",
        "- Pechuga de pollo, brócoli, crema de coco, tocino, almendras, aceite de oliva.\n",
        "- Atún enlatado, coliflor, mantequilla de almendra, calabacín, carne molida de res, chocolate negro (85%+).\n",
        "- Jamón serrano, nuez pecana, espárragos, crema para batir, champiñones, aceitunas verdes.\n",
        "- Queso de cabra, chicharrón, apio, sardinas enlatadas, yogur griego sin azúcar, semillas de chía.\n",
        "- Pan de caja, plátanos, arroz blanco, frijoles negros, leche de vaca, galletas dulces.\n",
        "- Pasta, salsa de tomate, papas, manzanas, yogur de sabores, miel.\n",
        "- Cereal de desayuno, azúcar blanca, jugo de naranja, harina de trigo, mermelada, pan dulce.\n",
        "- Nachos, refresco, chocolate con leche, helado, croissants, papas fritas.\n",
        "- Tortillas de maíz, arroz integral, zanahorias, lentejas, queso crema con azúcar, dátiles."
      ]
    },
    {
      "cell_type": "code",
      "execution_count": null,
      "metadata": {
        "id": "KHb7V6hMCnk4"
      },
      "outputs": [],
      "source": []
    },
    {
      "cell_type": "markdown",
      "metadata": {
        "id": "tm_qSDxyCnk4"
      },
      "source": [
        "Ejericio 2: Few Shot lista de compras."
      ]
    },
    {
      "cell_type": "markdown",
      "metadata": {
        "id": "wj6jav-ZCnk4"
      },
      "source": [
        "Usando few shot haz que la llm retorne el peso de los ingredientes en ingles y en libras. (No decirle a la LLM directamente que lo retorne en esas unidades y en ingles)\n",
        "\n",
        "- Aguacate: 1 kg\n",
        "- Pechuga de pollo: 1.5 kg\n",
        "- Salmón fresco: 1 kg\n",
        "- Huevos: 1 kg (~16 huevos medianos)\n",
        "- Brócoli: 0.5 kg\n",
        "- Espinacas frescas: 0.5 kg\n",
        "- Queso maduro (tipo manchego): 0.5 kg\n",
        "- Aceite de oliva extra virgen: 1 kg (aprox. 1 litro)\n"
      ]
    },
    {
      "cell_type": "code",
      "execution_count": 22,
      "metadata": {
        "id": "JCdvcR9yCnk4",
        "colab": {
          "base_uri": "https://localhost:8080/",
          "height": 36
        },
        "outputId": "b62ed0d9-c68c-4ff0-d850-0ac7e5279185"
      },
      "outputs": [
        {
          "output_type": "execute_result",
          "data": {
            "text/plain": [
              "'Aceite de oliva extra virgen: 1 kg (aprox. 1 litro)'"
            ],
            "application/vnd.google.colaboratory.intrinsic+json": {
              "type": "string"
            }
          },
          "metadata": {},
          "execution_count": 22
        }
      ],
      "source": [
        "few_shot1 = \"\"\"Correo: \"Oferta limitada: gana dinero fácil desde casa.\"\n",
        "Clasificación: spam.\n",
        "\n",
        "Correo: \"Factura de electricidad disponible para consulta.\"\n",
        "Clasificación: legítimo.\n",
        "\n",
        "Correo: \"Felicitaciones, has ganado un premio increíble.\"\n",
        "Clasificación: spam.\n",
        "\n",
        "Correo: \"Resumen de la reunión del día lunes.\"\n",
        "Clasificación:\"\"\"\n",
        "\n",
        "h1 = HumanMessage(content=few_shot1)\n",
        "result = gpt4o.invoke([h1])\n",
        "print(result.content)\n",
        "\n",
        "\"Lista de compras\"\n",
        "\"Aguacate: 1 kg\"\n",
        "\"Pechuga de pollo: 1.5 kg\"\n",
        "\"Salmón fresco: 1 kg\"\n",
        "\"Huevos: 1 kg (~16 huevos medianos)\"\n",
        "\"Brócoli: 0.5 kg\"\n",
        "\"Espinacas frescas: 0.5 kg\"\n",
        "\"Queso maduro (tipo manchego): 0.5 kg\"\n",
        "\"Aceite de oliva extra virgen: 1 kg (aprox. 1 litro)\""
      ]
    },
    {
      "cell_type": "markdown",
      "metadata": {
        "id": "-OdYY_2iCnk4"
      },
      "source": [
        "Ejercicio 3\n",
        "Haz que la LLM retorne las fechas en formato YYYY/M/D\n",
        "\n",
        "- \"La conferencia fue el 15 de mayo en Barcelona. Hoy es 01 de septiembre del 2001\"\n",
        "- \"La boda de Carlos y Ana será el 12 de junio en Madrid de este año.\"\n",
        "- \"El concierto de Shakira que era el 20 de febrero lo cancelaron, lo van a reprogramar en otra fecha del 2025\""
      ]
    },
    {
      "cell_type": "code",
      "execution_count": 28,
      "metadata": {
        "id": "NPEwOcjxCnk4",
        "colab": {
          "base_uri": "https://localhost:8080/"
        },
        "outputId": "125586e0-bd5d-48df-e5a5-ef0d895ab7d7"
      },
      "outputs": [
        {
          "output_type": "stream",
          "name": "stdout",
          "text": [
            "No spam.\n"
          ]
        }
      ],
      "source": [
        "few_shot1 =\"input : 'La conferencia fue el 15 de mayo en Barcelona. Hoy es 01 de septiembre del 2001'\"\n",
        "\"output: 'La conferencia fue el 15/05/2001. Hoy es 01/10/2025'\"\n",
        "\n",
        "\"input : 'La boda de Carlos y Ana será el 12 de junio en Madrid de este año.'\"\n",
        "\"output: 'La boda de Carlos y Ana será el 12/06/2025 en Madrid\"\n",
        "\n",
        "\"input : 'El concierto de Shakira que era el 20 de febrero lo cancelaron, lo van a reprogramar en otra fecha del 2025'\"\n",
        "\"output: ...\"\n",
        "\n",
        "h1 = HumanMessage(\"El concierto de Shakira que era el 20 de febrero lo cancelaron, lo van a reprogramar en otra fecha del 2025\")\n",
        "result = gpt4o.invoke([s1, h1])\n",
        "print(result.content)"
      ]
    },
    {
      "cell_type": "markdown",
      "metadata": {
        "id": "76TLPRxJCnk4"
      },
      "source": [
        "## ¿Qué es Chain-of-Thought (CoT)?\n",
        "\n",
        "**Chain-of-Thought (CoT)**, también conocido como \"cadena de razonamiento\", es una técnica utilizada en modelos de lenguaje (como ChatGPT), que consiste en pedir explícitamente al modelo que explique paso a paso su razonamiento antes de dar una respuesta final. Esto permite mejorar significativamente la precisión y claridad en tareas complejas o que requieren lógica y deducción.\n",
        "\n",
        "### Características clave del CoT:\n",
        "- **Razonamiento explícito:** El modelo muestra claramente cada paso antes de llegar a una conclusión.\n",
        "- **Mejora precisión:** Reduce errores al obligar al modelo a revisar su lógica.\n",
        "- **Facilita revisión:** Permite verificar y corregir fácilmente cualquier error lógico en las respuestas.\n",
        "- **Transparencia:** La respuesta es más comprensible y confiable para el usuario.\n",
        "\n",
        "### Ejemplo práctico extendido:\n",
        "\n",
        "Sin CoT (respuesta directa):\n",
        "\n",
        "Prompt:\n",
        "\"Si compro 3 libros que cuestan 15 dólares cada uno y pago con un billete de 50 dólares, ¿cuánto cambio recibiré?\"\n",
        "\n",
        "Respuesta rápida del modelo:\n",
        "\"5 dólares.\"\n",
        "\n",
        "Con CoT (paso a paso):\n",
        "\n",
        "Prompt:\n",
        "\"Si compro 3 libros que cuestan 15 dólares cada uno y pago con un billete de 50 dólares, ¿cuánto cambio recibiré? Explica tu razonamiento paso a paso.\"\n",
        "\n",
        "Respuesta detallada:\n",
        "\"Primero calculo el costo total: 3 libros × 15 dólares = 45 dólares.  \n",
        "Luego resto ese total del billete con el que pago: 50 dólares - 45 dólares = 5 dólares.  \n",
        "Por lo tanto, recibiré 5 dólares de cambio.\"\n",
        "\n",
        "### ¿Cuándo usar Chain-of-Thought?\n",
        "\n",
        "Es especialmente útil cuando:\n",
        "- Se resuelven problemas matemáticos o lógicos.\n",
        "- Se explican conceptos complejos.\n",
        "- Necesitas respuestas claras, confiables y fáciles de revisar.\n",
        "- Observas que el modelo comete errores en respuestas directas.\n"
      ]
    },
    {
      "cell_type": "code",
      "execution_count": 29,
      "metadata": {
        "id": "wMlNq_r3Cnk4"
      },
      "outputs": [],
      "source": [
        "query = \"Si compro 3 libros que cuestan 15 dólares cada uno y pago con un billete de 50 dólares, ¿cuánto cambio recibiré?\""
      ]
    },
    {
      "cell_type": "code",
      "execution_count": 30,
      "metadata": {
        "id": "GrrV97h7Cnk4",
        "outputId": "3abd0b53-62d9-4f16-8425-c683cbaf5495",
        "colab": {
          "base_uri": "https://localhost:8080/"
        }
      },
      "outputs": [
        {
          "output_type": "stream",
          "name": "stdout",
          "text": [
            "El total de la compra sería de 45 dólares (3 libros x 15 dólares cada uno = 45 dólares). Si pagas con un billete de 50 dólares, el cambio que recibirías sería de 5 dólares (50 dólares - 45 dólares = 5 dólares).\n"
          ]
        }
      ],
      "source": [
        "gpt35 = get_model(\"openai/gpt-3.5-turbo-0613\")\n",
        "\n",
        "h1 = HumanMessage(content=query)\n",
        "result = gpt35.invoke([h1])\n",
        "print(result.content)\n"
      ]
    },
    {
      "cell_type": "markdown",
      "metadata": {
        "id": "vXUjHnSGCnk5"
      },
      "source": [
        "Ejercicio COT 1\n",
        "\n",
        "Un tanque de agua se llena usando dos tuberías. La primera tubería llena el tanque en 4 horas, y la segunda en 6 horas. Si ambas tuberías se abren simultáneamente pero después de 2 horas la primera tubería se cierra, ¿cuánto tiempo adicional tardará la segunda tubería en terminar de llenar completamente el tanque? (psss 1 hora)"
      ]
    },
    {
      "cell_type": "code",
      "execution_count": 32,
      "metadata": {
        "id": "mEegMMpiCnk6",
        "outputId": "da2517d6-1063-4a0f-d671-27dcef20d55d",
        "colab": {
          "base_uri": "https://localhost:8080/"
        }
      },
      "outputs": [
        {
          "output_type": "stream",
          "name": "stdout",
          "text": [
            "La primera tubería llena el tanque en 4 horas, por lo que en 2 horas habrá llenado la mitad del tanque.\n",
            "\n",
            "La segunda tubería llena el tanque en 6 horas, por lo que en 2 horas habrá llenado 1/3 del tanque (ya que 2 horas es 1/3 de 6 horas).\n",
            "\n",
            "Luego de cerrar la primera tubería, la segunda tubería se encargará de llenar la otra mitad del tanque, es decir, 1/2 del tanque.\n",
            "\n",
            "Como en 2 horas la segunda tubería ha llenado 1/3 del tanque, le quedará 1/2 - 1/3 = 1/6 del tanque por llenar.\n",
            "\n",
            "Ya que la segunda tubería llena 1/6 del tanque en 1 hora (ya que llena 1/3 del tanque en 2 horas), tardará entonces 1 hora adicional en llenar completamente el tanque.\n",
            "\n",
            "Por lo tanto, la segunda tubería tardará 1 hora adicional en terminar de llenar completamente el tanque.\n"
          ]
        }
      ],
      "source": [
        "h1 = HumanMessage(content=\"Un tanque de agua se llena usando dos tuberías. La primera tubería llena el tanque en 4 horas, y la segunda en 6 horas. Si ambas tuberías se abren simultáneamente pero después de 2 horas la primera tubería se cierra, ¿cuánto tiempo adicional tardará la segunda tubería en terminar de llenar completamente el tanque?\")\n",
        "result = gpt35.invoke([h1])\n",
        "print(result.content)"
      ]
    },
    {
      "cell_type": "code",
      "execution_count": 31,
      "metadata": {
        "id": "WV8C7rXcCnk6",
        "outputId": "50164492-fab4-4056-d0f8-45b7f8cd0d6d",
        "colab": {
          "base_uri": "https://localhost:8080/"
        }
      },
      "outputs": [
        {
          "output_type": "stream",
          "name": "stdout",
          "text": [
            "Para resolver este problema, primero debemos determinar la tasa de llenado de cada tubería por hora. \n",
            "\n",
            "La primera tubería llena el tanque en 4 horas, por lo tanto su tasa de llenado es de 1/4 del tanque por hora. \n",
            "La segunda tubería llena el tanque en 6 horas, por lo tanto su tasa de llenado es de 1/6 del tanque por hora. \n",
            "\n",
            "Si ambas tuberías se abren simultáneamente, la tasa de llenado total será la suma de las tasas de llenado de ambas tuberías:\n",
            "1/4 + 1/6 = 3/12 + 2/12 = 5/12 del tanque por hora.\n",
            "\n",
            "Después de 2 horas, la primera tubería se cierra. En esas 2 horas, habrá llenado:\n",
            "2 * (5/12) = 10/12 del tanque.\n",
            "\n",
            "Por lo tanto, después de 2 horas, queda por llenar:\n",
            "1 - 10/12 = 2/12 del tanque.\n",
            "\n",
            "Como solo la segunda tubería sigue llenando el tanque ahora, su tasa de llenado es de 1/6 del tanque por hora.\n",
            "Para encontrar cuánto tiempo tardará la segunda tubería en llenar esos 2/12 restantes del tanque, dividimos la cantidad restante por la tasa de llenado de la segunda tubería:\n",
            "(2/12) / (1/6) = (2/12) * (6/1) = 12/12 = 1 hora.\n",
            "\n",
            "Por lo tanto, la segunda tubería tardará una hora adicional en terminar de llenar completamente el tanque después de que la primera tubería se cierre.\n"
          ]
        }
      ],
      "source": [
        "h1 = HumanMessage(content=\"\"\"\"\n",
        "\"Un tanque de agua se llena usando dos tuberías. La primera tubería llena el tanque en 4 horas, y la segunda en 6 horas. Si ambas tuberías se abren simultáneamente pero después de 2 horas la primera tubería se cierra, ¿cuánto tiempo adicional tardará la segunda tubería en terminar de llenar completamente el tanque?\n",
        "            Explica tu razonamiento paso a paso.\n",
        "                  \"\"\")\n",
        "result = gpt35.invoke([h1])\n",
        "print(result.content)"
      ]
    },
    {
      "cell_type": "code",
      "execution_count": null,
      "metadata": {
        "id": "Nwseqq09Cnk6"
      },
      "outputs": [],
      "source": []
    },
    {
      "cell_type": "markdown",
      "metadata": {
        "id": "y_J3_4kaCnk6"
      },
      "source": [
        "Ejercicio Cot 2\n",
        "\n",
        "Su tarea es hacer que ChatGPT sea capaz de resolver problemas matemáticos difíciles. Por ejemplo, ante la pregunta «¿Cuánto es 4349*4434?», ChatGPT responde 19.286.566 (o similar), lo cual es incorrecto. ¿Puedes idear una pregunta que obligue a ChatGPT a escribir su trabajo y resolver con precisión este problema matemático? (pss 19.283.466)"
      ]
    },
    {
      "cell_type": "code",
      "source": [],
      "metadata": {
        "id": "G7jDOXcjj-NE"
      },
      "execution_count": null,
      "outputs": []
    },
    {
      "cell_type": "markdown",
      "metadata": {
        "id": "fCFQxOy_Cnk6"
      },
      "source": [
        "# Incentivando el COT Strategy."
      ]
    },
    {
      "cell_type": "code",
      "execution_count": 33,
      "metadata": {
        "id": "BcJ2guzECnk6"
      },
      "outputs": [],
      "source": [
        "strategy = \"\"\"\n",
        "Eres un experto en problemas matematicos. Tu tarea es resolver problemas matematicos de nivel secundaria y universitario.\n",
        "\n",
        "Steps:\n",
        "1. Leer el problema.\n",
        "2. Entender el problema.\n",
        "3. Diseñar una estrategia para resolver el problema.\n",
        "4. Resolver el problema.\n",
        "5. Verificar la solución.\n",
        "\n",
        "Explica tu razonamiento paso a paso.\n",
        "\n",
        "\"\"\""
      ]
    },
    {
      "cell_type": "code",
      "execution_count": 34,
      "metadata": {
        "id": "OabROG2dCnk6",
        "outputId": "90cdfa7c-acec-4106-aa9e-a09905cd699f",
        "colab": {
          "base_uri": "https://localhost:8080/"
        }
      },
      "outputs": [
        {
          "output_type": "stream",
          "name": "stdout",
          "text": [
            "1. Leer el problema: Se tiene un tanque de agua que se llena con dos tuberías. La primera llena el tanque en 4 horas, la segunda en 6 horas. Ambas se abren al mismo tiempo, pero la primera se cierra después de 2 horas. Se desea saber cuánto tiempo más tardará la segunda tubería en llenar por completo el tanque.\n",
            "\n",
            "2. Entender el problema: Se debe encontrar cuánto tiempo tardará la segunda tubería en llenar el tanque una vez que la primera tubería se haya cerrado.\n",
            "\n",
            "3. Diseñar una estrategia para resolver el problema:\n",
            "   - Primero, se necesitará encontrar la fracción de tanque llenada por ambas tuberías en las primeras 2 horas.\n",
            "   - Luego, se calculará cuánto tiempo adicional tarda la segunda tubería en llenar el resto del tanque.\n",
            "   \n",
            "4. Resolver el problema:\n",
            "   - La primera tubería llena el tanque en 4 horas, por lo tanto, en 2 horas llena la mitad del tanque (2/4 = 1/2).\n",
            "   - La segunda tubería llena el tanque en 6 horas, por lo tanto, en 2 horas llena 1/3 del tanque (2/6 = 1/3).\n",
            "   - Juntas, en las primeras 2 horas llenarán 1/2 + 1/3 = 5/6 del tanque. Por lo tanto, queda 1/6 del tanque por llenar.\n",
            "   - La segunda tubería, al trabajar sola a partir de ese momento, tardará 1/6 del tanque en 6 horas (como llena 1/3 por hora), por lo que tardará 6 horas adicionales en llenar completamente el tanque.\n",
            "\n",
            "5. Verificar la solución:\n",
            "   - Después de 2 horas, la primera tubería ha llenado 1/2 del tanque y la segunda tubería ha llenado 1/3 del tanque. Juntas han llenado un total de 5/6 del tanque en 2 horas, por lo que el razonamiento es correcto.\n",
            "   - Por lo tanto, la segunda tubería tardará 6 horas adicionales en llenar el resto del tanque, lo cual es la respuesta al problema planteado.\n"
          ]
        }
      ],
      "source": [
        "strategy = SystemMessage(content=strategy)\n",
        "problem = \"Problema: Un tanque de agua se llena usando dos tuberías. La primera tubería llena el tanque en 4 horas, y la segunda en 6 horas. Si ambas tuberías se abren simultáneamente pero después de 2 horas la primera tubería se cierra, ¿cuánto tiempo adicional tardará la segunda tubería en terminar de llenar completamente el tanque?\"\n",
        "h1 = HumanMessage(content=problem)\n",
        "result = gpt35.invoke([strategy,h1])\n",
        "print(result.content)"
      ]
    },
    {
      "cell_type": "code",
      "execution_count": null,
      "metadata": {
        "id": "xqRcLYc-Cnk6"
      },
      "outputs": [],
      "source": [
        "strategy = \"\"\"\n",
        "Eres un experto en problemas matematicos. Tu tarea es resolver problemas matematicos de nivel secundaria y universitario.\n",
        "\n",
        "Steps:\n",
        "1. Leer el problema.\n",
        "2. Entender el problema.\n",
        "3. Diseñar una estrategia para resolver el problema.\n",
        "4. Resolver el problema.\n",
        "5. Verificar la solución.\n",
        "\n",
        "<Example>\n",
        "Problema: ¿Cuanto es 2+2 * 3?\n",
        "1. Leer el problema: Entiendo que el problema es una operación aritmética.\n",
        "2. Entender el problema: La operación es una multiplicación y una suma. Debomos seguir la jerarquia de operaciones.\n",
        "3. Diseñar una estrategia para resolver el problema:\n",
        "    3.1 Multiplicar 2*3 = 6 ya que es la primera operación.\n",
        "    3.2 Sumar 2+6 = 8 ya que es la segunda operación.\n",
        "4. Resolver el problema: 8\n",
        "5. Verificar la solución: La solución es correcta. Dado que se siguio la jerarquia de operaciones.\n",
        "</Example>\n",
        "\n",
        "\n",
        "Explica tu razonamiento paso a paso.\n",
        "\n",
        "\"\"\""
      ]
    },
    {
      "cell_type": "code",
      "execution_count": null,
      "metadata": {
        "id": "-32d0nhNCnk6",
        "outputId": "6b71ee56-e413-4617-fa53-0eec9e73920c"
      },
      "outputs": [
        {
          "name": "stdout",
          "output_type": "stream",
          "text": [
            "1. Leer el problema: Se tiene un tanque que se llena con dos tuberías, cada una con un tiempo de llenado diferente. Luego de 2 horas, se cierra la primera tubería y se quiere saber cuánto tiempo tardará la segunda tubería en terminar de llenar el tanque.\n",
            "\n",
            "2. Entender el problema: Se necesita encontrar el tiempo adicional que tomará la segunda tubería para llenar el tanque después de cerrarse la primera tubería. Es importante considerar que la primera tubería llena durante 2 horas.\n",
            "\n",
            "3. Diseñar una estrategia para resolver el problema:\n",
            "    3.1 Calcular la tarea que realiza la primera tubería en 2 horas.\n",
            "    3.2 Determinar cuánto del tanque queda por llenar.\n",
            "    3.3 Calcular cuánto tiempo tardará la segunda tubería en terminar de llenar el tanque restante.\n",
            "\n",
            "4. Resolver el problema:\n",
            "    3.1 La primera tubería llena en 4 horas, por lo que en 2 horas llena (2/4) del tanque.\n",
            "        Tarea realizada por la primera tubería = (2/4) = 1/2 del tanque.\n",
            "    3.2 El tanque queda por llenar (1 - 1/2) = 1/2 del tanque.\n",
            "    3.3 La segunda tubería tarda 6 horas en llenar el tanque, por lo que en 1 hora llena (1/6) del tanque.\n",
            "        Para llenar 1/2 del tanque, la segunda tubería tardará (1/2) / (1/6) = 3 horas.\n",
            "\n",
            "5. Verificar la solución: Después de cerrarse la primera tubería, la segunda tubería tardará 3 horas adicionales en terminar de llenar completamente el tanque.\n"
          ]
        }
      ],
      "source": [
        "strategy = SystemMessage(content=strategy)\n",
        "problem = \"Problema: Un tanque de agua se llena usando dos tuberías. La primera tubería llena el tanque en 4 horas, y la segunda en 6 horas. Si ambas tuberías se abren simultáneamente pero después de 2 horas la primera tubería se cierra, ¿cuánto tiempo adicional tardará la segunda tubería en terminar de llenar completamente el tanque?\"\n",
        "h1 = HumanMessage(content=problem)\n",
        "result = gpt35.invoke([strategy,h1])\n",
        "print(result.content)"
      ]
    },
    {
      "cell_type": "markdown",
      "metadata": {
        "id": "EOPmaQ2lCnk7"
      },
      "source": [
        "# Incentivar tipo de salida"
      ]
    },
    {
      "cell_type": "code",
      "execution_count": null,
      "metadata": {
        "id": "b15rAyLpCnk7"
      },
      "outputs": [],
      "source": [
        "output_parser = \"\"\"\n",
        "Eres un sistema que dada una lista de opciones las retornas en un json bien formateado. Solo debes retornar el json sin adicionar ningun texto.\n",
        "\n",
        "Ejemplo de json:\n",
        "\n",
        "{\n",
        "    \"clave\": \"valor\"\n",
        "}\n",
        "\n",
        "\"\"\"\n"
      ]
    },
    {
      "cell_type": "code",
      "execution_count": null,
      "metadata": {
        "id": "dMMSQNg6Cnk7"
      },
      "outputs": [],
      "source": [
        "lista_compras = \"\"\"\n",
        "- Aguacate: 1 kg\n",
        "- Pechuga de pollo: 1.5 kg\n",
        "- Salmón fresco: 1 kg\n",
        "- Huevos: 1 kg (~16 huevos medianos)\n",
        "- Brócoli: 0.5 kg\n",
        "- Espinacas frescas: 0.5 kg\n",
        "- Queso maduro (tipo manchego): 0.5 kg\n",
        "- Aceite de oliva extra virgen: 1 kg (aprox. 1 litro)\n",
        "\"\"\"\n",
        "\n",
        "keto_01 = f\"\"\"\n",
        "input: Atun 3kg\n",
        "output: Atun 6lb\n",
        "\n",
        "input: fresas 1kg\n",
        "output: fresas 2lb\n",
        "\n",
        "input: tomates 0.5kg\n",
        "output: tomates 1lb\n",
        "\n",
        "{lista_compras}\n",
        "\"\"\""
      ]
    },
    {
      "cell_type": "code",
      "execution_count": null,
      "metadata": {
        "id": "g7JjkcMuCnk7",
        "outputId": "47f9ed6c-c0d9-4481-e715-1ab7cc3e4bed"
      },
      "outputs": [
        {
          "name": "stdout",
          "output_type": "stream",
          "text": [
            "- Aguacate: 2.2 lb\n",
            "- Pechuga de pollo: 3.3 lb\n",
            "- Salmón fresco: 2.2 lb\n",
            "- Huevos: 2.2 lb (~16 huevos medianos)\n",
            "- Brócoli: 1.1 lb\n",
            "- Espinacas frescas: 1.1 lb\n",
            "- Queso maduro (tipo manchego): 1.1 lb\n",
            "- Aceite de oliva extra virgen: 2.2 lb (aprox. 1 litro)\n"
          ]
        }
      ],
      "source": [
        "human = HumanMessage(content=keto_01)\n",
        "result = gpt35.invoke([human])\n",
        "print(result.content)"
      ]
    },
    {
      "cell_type": "code",
      "execution_count": null,
      "metadata": {
        "id": "f5zqI5keCnk7",
        "outputId": "010e19d6-891c-4808-87de-c51b187ca8f9"
      },
      "outputs": [
        {
          "data": {
            "text/plain": [
              "{'Aguacate': '2.2 lb',\n",
              " 'Pechuga de pollo': '3.3 lb',\n",
              " 'Salmón fresco': '2.2 lb',\n",
              " 'Huevos': '2.2 lb (~16 huevos medianos)',\n",
              " 'Brócoli': '1.1 lb',\n",
              " 'Espinacas frescas': '1.1 lb',\n",
              " 'Queso maduro (tipo manchego)': '1.1 lb',\n",
              " 'Aceite de oliva extra virgen': '2.2 lb (aprox. 1 litro)'}"
            ]
          },
          "execution_count": 60,
          "metadata": {},
          "output_type": "execute_result"
        }
      ],
      "source": [
        "result = gpt35.invoke([SystemMessage(content=output_parser),result])\n",
        "import json\n",
        "\n",
        "lista_diccionario = json.loads(result.content)\n",
        "lista_diccionario"
      ]
    },
    {
      "cell_type": "code",
      "execution_count": null,
      "metadata": {
        "id": "cHA7xuapCnk7",
        "outputId": "4c7a21fa-97c7-427e-ab43-c07d7742a147"
      },
      "outputs": [
        {
          "data": {
            "text/plain": [
              "'2.2 lb'"
            ]
          },
          "execution_count": 61,
          "metadata": {},
          "output_type": "execute_result"
        }
      ],
      "source": [
        "lista_diccionario[\"Aguacate\"]"
      ]
    },
    {
      "cell_type": "markdown",
      "metadata": {
        "id": "DKbvNGZYCnk7"
      },
      "source": [
        "# Reto 001: Factura servicios publicos\n",
        "\n",
        "Extraer de la factura en formato JSON la siguiente información:\n",
        "Nombre del cliente, direccion de cobro, estrato, valor total a pagar consumo de energia, costo del kilovatio hora."
      ]
    },
    {
      "cell_type": "code",
      "execution_count": null,
      "metadata": {
        "id": "EfCmYATtCnk7"
      },
      "outputs": [],
      "source": [
        "\n",
        "\n",
        "factura001 = \"\"\"\n",
        "### Factura de Servicios Públicos EPM\n",
        "\n",
        "**Encabezado:**\n",
        "*   **Dirección prestación servicio:** calle falsa 123 (interior 301)\n",
        "*   **Municipio:** Medellín - Antioquia\n",
        "\n",
        "**Información General:**\n",
        "\n",
        "*   **Documento Equivalente Electrónico SPD N°:** DEE100439\n",
        "*   **Contrato:** 4071023\n",
        "*   **Referente de pago:** 1058617580-22\n",
        "*   **Documento No:** 12345\n",
        "*   **Cliente:** Homero J Simpson\n",
        "*   **CC/NIT:** 123456789\n",
        "*   **Dirección de cobro:** calle falsa 123 (INTERIOR 301)\n",
        "*   **Medellín - Antioquia**\n",
        "*   **Estrato:** 3\n",
        "*   **Ciclo:** 16\n",
        "*   **Código de barras:** 0584100400001-16-001628151\n",
        "\n",
        "*   **Valor total a pagar:** $449.970\n",
        "*   **Pagar hasta el:** 11-mar-2025\n",
        "*   El pago después de esta fecha generará intereses de mora.\n",
        "\n",
        "**Imágenes:**\n",
        "*   Código QR con información del contrato y valores.\n",
        "*   Imagen de incremento/decremento/igual en los servicios.\n",
        "\n",
        "---\n",
        "#### Acueducto\n",
        "\n",
        "*   **Cálculo Consumo del 04 ene al 04 feb (31 días)**\n",
        "    *   Lectura actual: 1.774\n",
        "    *   Lectura anterior: 1.748\n",
        "    *   Consumo: 26 m³\n",
        "\n",
        "    *   **Valores Facturados**\n",
        "        *   Consumo feb-25: 13 m³ x 4.687,36 = $60.935,68\n",
        "        *   Consumo feb-25: 13 m³ x 4.687,36 = $60.935,68\n",
        "        *   Cargo fijo feb-25: 9.252,53\n",
        "        *   Subsidio: -8.773,53\n",
        "        *   Interés mora %0,4856 emv: 87,64\n",
        "        *   **Total Acueducto:** $122.438\n",
        "    *   **Observaciones:** 30 - variación nivel de utilización.\n",
        "    *   **Información del producto:**\n",
        "        *   Producto: 110679798\n",
        "        *   Categoría: Residencial\n",
        "        *   Medidor: water Tech_sirius_20 16609297-7\n",
        "        *   Plan: Residencial\n",
        "        *   Componentes del costo:\n",
        "            *   Cmapac - Cost,00\n",
        "            *   Cmpac Unitario 2,11\n",
        "            *   Cmpac Total 54,86\n",
        "            *   Cmt Unitario 26,78\n",
        "            *   Cmt Total 696,28\n",
        "    *   **Histórico de consumos (m³) y promedio**\n",
        "\n",
        "    **Imagen:**\n",
        "    *   Gráfico de histórico de consumos de acueducto.\n",
        "\n",
        "---\n",
        "#### Alcantarillado\n",
        "\n",
        "*   **Cálculo Consumo del 04 ene al 04 feb (31 días)**\n",
        "    *   Consumo: 26 m³\n",
        "\n",
        "    *   **Valores Facturados**\n",
        "        *   Consumo feb-25: 13 m³ x 3.587,61 = $46.638,93\n",
        "        *   Consumo feb-25: 13 m³ x 3.587,61 = $46.638,93\n",
        "        *   Cargo fijo feb-25: 5.321,40\n",
        "        *   Subsidio: -6.495,05\n",
        "        *   Interés mora %0,4856 emv: 65,82\n",
        "        *   **Total Alcantarillado:** $92.170,03\n",
        "\n",
        "    *   **Información del producto:**\n",
        "        *   Producto: 110679105\n",
        "        *   Categoría: Residencial\n",
        "        *   Plan: Residencial\n",
        "        *   Componentes del costo:\n",
        "            *   Cmt Unitario 17,03\n",
        "            *   Cmt Total 442,78\n",
        "    *   **Histórico de consumos (m³) y promedio**\n",
        "\n",
        "    **Imagen:**\n",
        "        *   Gráfico de histórico de consumos de alcantarillado.\n",
        "\n",
        "---\n",
        "#### Energía\n",
        "\n",
        "*   **Cálculo Consumo del 04 ene al 04 feb (31 días)**\n",
        "    *   Lectura actual: 31.147\n",
        "    *   Lectura anterior: 30.986\n",
        "    *   Constante: 1\n",
        "    *   Consumo: 161 kWh\n",
        "\n",
        "    *   **Valores Facturados**\n",
        "        *   Energía feb-25: 161 kWh x 913,53 = $147.078,33\n",
        "        *   Subsidio: -17.813,84\n",
        "        *   Interés mora %0,4856 emv: 91,82\n",
        "        *   **Total Energía:** $129.356,31\n",
        "    *   **Información del producto:**\n",
        "        *   Producto: 110482866\n",
        "        *   Categoría: Residencial\n",
        "        *   Medidor: 46_oa3tci_2719957-3\n",
        "        *   Plan: Normal residencial\n",
        "        *   Componentes del costo:\n",
        "            *   Generación 371,11\n",
        "            *   Transmisión 56,03\n",
        "            *   Distribución 292,11\n",
        "            *   Comercializac 115,65\n",
        "            *   Pérdidas 74,91\n",
        "            *   Restricciones 3,71\n",
        "        *   N. tensión: 220 voltios\n",
        "    *   **Histórico de consumos (kWh) y promedio**\n",
        "\n",
        "    **Imagen:**\n",
        "        *   Gráfico de histórico de consumos de energía.\n",
        "\n",
        "---\n",
        "#### Gas\n",
        "\n",
        "*   **Cálculo Consumo del 04 ene al 04 feb (31 días)**\n",
        "    *   Lectura actual: 2.433\n",
        "    *   Lectura anterior: 2.409\n",
        "    *   Constante: 0,845\n",
        "    *   Consumo: 20,287 m³\n",
        "\n",
        "    *   **Valores Facturados**\n",
        "        *   Consumo feb-25: 20,287 m³ x 2.946,73 = $59.780,31\n",
        "        *   Cargo fijo feb-25: 4.065,40\n",
        "        *   Interés mora %0,4856 emv: 34,15\n",
        "        *   **Total Gas:** $63.879,86\n",
        "    *   **Información del producto:**\n",
        "        *   Producto: 120694646\n",
        "        *   Categoría: Residencial\n",
        "        *   Medidor: 78_g1.6(g1.6)_20136483401-9\n",
        "        *   Plan: Residencial tarifa plena\n",
        "        *   Componentes del costo:\n",
        "            *   Componentes Variables: ($/m3)\n",
        "                *   Compra 1.481,94\n",
        "                *   Distribución 692,72\n",
        "                *   Transporte 578,04\n",
        "                *   Confiabilidad ,00\n",
        "                *   Comercializac ,00\n",
        "            *   Componentes Fijas ($/factura)\n",
        "                *   Transporte Gn 161,70\n",
        "                *   Compresión 32,31\n",
        "                *   Comercializac 4.065,40\n",
        "    *   **Histórico de consumos (m³) y promedio**\n",
        "    **Imagen:**\n",
        "        *   Gráfico de histórico de consumos de gas.\n",
        "\n",
        "---\n",
        "#### Ajuste conceptos facturados\n",
        "\n",
        "*   Epm a tu puerta\n",
        "    *   Detalles del producto\n",
        "        *   Producto #132262268\n",
        "        *   Descripción\n",
        "            *   Asistencia epm a tu puerta\n",
        "        *   Interés mora %0,4856 emv\n",
        "        *   Interés mora x recaudo iva\n",
        "*   Valores facturados\n",
        "    *   Asistencia epm a tu puerta $ 10.840,34\n",
        "    *   Interés mora $ 1,33\n",
        "    *   Interés mora x recaudo iva $7,02\n",
        "\n",
        "*   Servicio, Concepto-Periodo\n",
        "    *   (Alcantarillado - Consumo Oct-24) Valor ($) 15,60\n",
        "    *   (Alcantarillado - Subs Consumo Oct-24) Valor ($) -1,06\n",
        "    *   Alcantarillado - Consumo Nov-24 Valor ($) 15,60\n",
        "    *   Alcantarillado - Subs Consumo Nov-24 Valor ($) -1,06\n",
        "\n",
        "*   **Total Ajuste conceptos facturados: $ 10.848,69**\n",
        "\n",
        "---\n",
        "#### Otras Entidades\n",
        "\n",
        "*   **Emvarias:**\n",
        "\n",
        "    *   Empresas Varias De Medellín E.s.p. Nit: 8909050559 Tel:6044445636 Email: contacto@emvarias.com.co Dir: cr 58 42-125 edif. inteligente Web: www.emvarias.com.co Producto: 110505343\n",
        "    *   Usuario: Homero J Simpson - Residencial - Estrato 3 - calle falsa 123 (interior 301) - Medellín - Antioquia Frecuencias: Semanal No Aprovechables: 2 - Barrido: 2 Mensual Periodo de consumo: Diciembre 2024 Aforo: Pago periodo anterior:\n",
        "\n",
        "    *   **Valores facturados**\n",
        "        *   Cargo Fijo: $14.049,68\n",
        "        *   Cargo Variable Aprovechable: $1.262,28\n",
        "        *   Barrido y limpieza: $-4.208,69\n",
        "        *   Limpieza urbana: $19,29\n",
        "        *   Subsidio 15%:\n",
        "        *   Interés Mora %0,4856 Emv:\n",
        "        *   **Total Aseo:** $12.746,01\n",
        "        *   Valor Servicio facturado (últimos 6 meses)\n",
        "            *   Nov-24 $ 23.871,65\n",
        "            *   Oct-24 $ 23.837,26\n",
        "            *   Sep-24 $ 23.887,18\n",
        "            *   Ago-24 $ 25.051,21\n",
        "            *   Jul-24 $ 23.855,38\n",
        "            *   Jun-24 $ 24.144,64\n",
        "        *   Residuos del periodo (ton)\n",
        "            *   No Aprov - Ordinarios 0,04357\n",
        "        *   Cantidad de residuos (ton)\n",
        "            *   Aprovechables No Aprovechables\n",
        "                *   Rechazados 0,002 0,00019\n",
        "                *   Dic-24 0,00005 0,04588\n",
        "                *   Nov-24 0,00554 0,04588\n",
        "                *   Oct-24 0,00508 0,04588\n",
        "                *   Dic-24 0,00505\n",
        "            *   Cargo Variable\n",
        "        *   **Total Aseo:** $23.868,57\n",
        "\n",
        "*   **Alumbrado Público:**\n",
        "\n",
        "    *   Alumbrado Público Municipio De Medellín Nit: 8909052111 Tel: 604 4444144 Email: alumbradopublicomed@medellin.gov.co Dir: calle 44 #52-165 alcaldia medellin tesoreria piso 1 taquilla 6 Web: www.medellin.gov.co Producto: 126117983\n",
        "    *   Usuario: Homero J Simpson - Residencial - Estrato 3 - calle falsa 123 (interior 301) - Medellín\n",
        "    *   **Valores Facturados**\n",
        "        *   Antioquia - Acuerdo 066 De 2017 - Ccu Cláusula 36 Parágrafo 3 Pago periodo anterior:\n",
        "        *   Alumbrado Público: $ 5.300,00\n",
        "        *   Interés Mora %0,4856 Emv: $ 4,29\n",
        "        *   **Total Alumbrado:** $ 5.304,29\n",
        "\n",
        "*   **Otros Cobros:**\n",
        "\n",
        "    *   **Concepto:**\n",
        "        *   Iva 19% Interés Mora X Reca: 1,33\n",
        "        *   Iva Asistencia Epm A Tu Pue: 2.059,66\n",
        "\n",
        "    *   **Total epm a tu puerta:** $2.060,99\n",
        "    *   **Total Otras Entidades:** $31.233,85\n",
        "\n",
        "---\n",
        "**Información Adicional y Contacto:**\n",
        "\n",
        "*   Estamos ahí más cerca de tí:\n",
        "    *   Medellín (604) 4444115\n",
        "    *   Resto del país 018000415115\n",
        "*   Línea ética: \"Contacto Transparente\" 018000522955\n",
        "*   Empresas Públicas de Medellín E.S.P NIT.890.904.996-1\n",
        "*   Puntos de Pago: Paga en línea: APP-EPM\n",
        "    *   https://aplicaciones.epm.com.co/facturaweb/#/\n",
        "*   Direcciones y detalles de contacto para Puntos de Pago.\n",
        "*   Información técnica\n",
        "*   *Entidades que nos regulan Comision de Regulacion de Agua Potable y Saneamiento Basico CRA - www.cra.gov.co / Comision de Regulacion de Energia y Gas CREG - www.creg.gov.co*\n",
        "\n",
        "**Información legal:**\n",
        "\n",
        "*   *La presente factura presta mérito ejecutivo en virtud del artículo 130 de la Ley 142 de 1994 modificado por el artículo 18 de la Ley 689 de 2001.*\n",
        "\n",
        "**Firmas:**\n",
        "*   Representante legal\n",
        "*   Gerente Empresas Varias de Medellín S.A E.S.P\n",
        "\n",
        "**Imágenes:**\n",
        "\n",
        "*   Logo de EPM\n",
        "*   Logo de Emvarias\n",
        "*   Logo Superservicios\n",
        "x\n",
        "---\n",
        "\"\"\""
      ]
    },
    {
      "cell_type": "code",
      "execution_count": null,
      "metadata": {
        "id": "XCok3blTCnk8"
      },
      "outputs": [],
      "source": [
        "s1 = \"\"\n",
        "h1 = \"\"\n",
        "response = \"\"\n",
        "\n",
        "\n",
        "response_dict = json.loads(response.content)"
      ]
    },
    {
      "cell_type": "markdown",
      "metadata": {
        "id": "i3xbLRUVCnk8"
      },
      "source": [
        "# Least to most\n",
        "Least to Most (de menos a más) es una técnica utilizada en inteligencia artificial, especialmente con modelos de lenguaje, que consiste en resolver problemas complejos dividiéndolos en pasos simples, desde los más fáciles a los más difíciles. Primero se aborda la parte más sencilla del problema, y luego se avanza paso a paso hacia aspectos más complicados. Esto ayuda al modelo a mejorar su precisión y capacidad de razonamiento al guiar su pensamiento gradualmente."
      ]
    },
    {
      "cell_type": "code",
      "execution_count": null,
      "metadata": {
        "id": "N9zlnlqMCnk8",
        "outputId": "603ba9dc-f81e-4d6d-be4e-fa39b3a208e1"
      },
      "outputs": [
        {
          "name": "stdout",
          "output_type": "stream",
          "text": [
            "Para determinar cuántos viajes tiene una carga, podemos dividir el problema en las siguientes subtareas:\n",
            "\n",
            "1. **Identificación del punto de origen y destino**:\n",
            "   - Verificar la ubicación de la carga de La Porte, TX (ZIP CODE: 77571).\n",
            "   - Confirmar las ubicaciones de entrega en FL (33178) y Houston, TX (77020).\n",
            "\n",
            "2. **Análisis de la carga**:\n",
            "   - Revisar el total de cantidad de cajas (4 cajas).\n",
            "   - Evaluar el peso total de la carga (2.380,4 kg).\n",
            "   - Verificar las dimensiones de cada caja (1.12 m x 1.20 m x 1.15 m).\n",
            "\n",
            "3. **Evaluación de la capacidad de transporte**:\n",
            "   - Investigar el tipo de vehículo o transporte que se utilizará (camiones, furgones, etc.).\n",
            "   - Determinar la capacidad máxima de peso y volumen del vehículo disponible para la carga.\n",
            "\n",
            "4. **Cálculo del número de viajes necesarios**:\n",
            "   - Calcular si el peso total y las dimensiones de las cajas permiten que sean transportadas juntas en un solo viaje.\n",
            "   - Dividir la carga en función de la capacidad del transporte para determinar si es necesario hacer varios viajes.\n",
            "\n",
            "5. **Consideraciones de entrega**:\n",
            "   - Analizar la posible ruta a seguir para las entregas y si hay restricciones en ciertas áreas que podrían requerir más de un viaje.\n",
            "   - Estimar el tiempo de transporte y cualquier factor adicional que pueda afectar el número de viajes.\n",
            "\n",
            "Una vez que se completen estas subtareas, se podrá determinar con precisión cuántos viajes son necesarios para la carga solicitada.\n"
          ]
        }
      ],
      "source": [
        "quote001 = \"\"\"\n",
        "Team,\n",
        "\n",
        "\n",
        "Please provide an inland rate for the below request:\n",
        "\n",
        "\n",
        "From: The Dow Chemical Company\n",
        "LA PORTE\n",
        "LA PORTE DHL Supply Ch Laporte\n",
        "9703 HWY 225\n",
        "\n",
        "ZIP CODE: 77571\n",
        "\n",
        "\n",
        "To: FL 33178 AND HOUSTON, TX     77020\n",
        "\n",
        "\n",
        "Details:\n",
        "\n",
        "CFS DELIVERY\n",
        "\n",
        "\n",
        "QUANTITY:  4 CAJAS\n",
        "\n",
        "WEIGHT:  2.380,4 KG\n",
        "\n",
        "MEASSUREMENTS: cada caja 1.12x1.20x1.15 m\n",
        "\n",
        "\"\"\"\n",
        "\n",
        "s1_prompt = \"\"\"\n",
        "Eres un experto en cotizaciones de carga.\n",
        "Tu tarea es determinar cuantos viajes tiene una carga.\n",
        "No lo resuelvas por ahora la tarea. Divide el problema en subtareas.\n",
        "\"\"\"\n",
        "\n",
        "s1_ltm = SystemMessage(content=s1_prompt)\n",
        "h1_ltm = HumanMessage(content=quote001)\n",
        "gpt4o = get_model()\n",
        "response = gpt4o.invoke([s1_ltm,h1_ltm])\n",
        "print(response.content)"
      ]
    },
    {
      "cell_type": "code",
      "execution_count": null,
      "metadata": {
        "id": "J0ZmgKatCnk8",
        "outputId": "b04fd0b2-73d5-4ebf-edab-ff43a4644994"
      },
      "outputs": [
        {
          "name": "stdout",
          "output_type": "stream",
          "text": [
            "Claro, abordemos cada subtarea una por una:\n",
            "\n",
            "### 1. Identificación del punto de origen y destino:\n",
            "   - **Origen**: La carga se origina en La Porte, TX, específicamente en la ubicación de DHL Supply en la dirección: 9703 HWY 225, ZIP CODE: 77571.\n",
            "   - **Destinos**: La carga tiene dos puntos de entrega:\n",
            "     - **Destino 1**: Florida, ZIP CODE: 33178.\n",
            "     - **Destino 2**: Houston, TX, ZIP CODE: 77020.\n",
            "\n",
            "### 2. Análisis de la carga:\n",
            "   - **Cantidad de Cajas**: La carga consta de 4 cajas.\n",
            "   - **Peso Total**: El peso total de la carga es de 2.380,4 kg.\n",
            "   - **Dimensiones de cada caja**: Cada caja tiene las dimensiones de 1.12 m de largo, 1.20 m de ancho y 1.15 m de alto.\n",
            "\n",
            "### 3. Evaluación de la capacidad de transporte:\n",
            "   - **Capacidad del Transporte**: Supongamos que se utilizará un camión de carga estándar. Por lo general, un camión de carga puede tener una capacidad de aproximadamente 10,000 kg y un volumen útil de alrededor de 33 m³.\n",
            "   - **Volumen de cada caja**: \n",
            "      - El volumen de cada caja es: \\(1.12 \\, \\text{m} \\times 1.20 \\, \\text{m} \\times 1.15 \\, \\text{m} = 1.5444 \\, \\text{m}^3\\).\n",
            "      - El volumen total de 4 cajas es: \\(1.5444 \\, \\text{m}^3 \\times 4 = 6.1776 \\, \\text{m}^3\\).\n",
            "      \n",
            "   - **Comparación con la capacidad del camión**:\n",
            "     - El peso de la carga (2.380,4 kg) está muy por debajo de la capacidad máxima del camión (10,000 kg).\n",
            "     - El volumen total de la carga (6.1776 m³) también está dentro del límite permitido del camión (33 m³).\n",
            "\n",
            "### 4. Cálculo del número de viajes necesarios:\n",
            "   - Dado que el peso y el volumen total de la carga se encuentran dentro de los límites de capacidad del camión, **toda la carga puede ser transportada en un solo viaje**.\n",
            "\n",
            "### 5. Consideraciones de entrega:\n",
            "   - La ruta de La Porte a Houston y luego a Florida debe ser revisada, pero dado que ambos destinos son factibles y no presentan restricciones obvias para un camión de carga, **la carga puede ser entregada en un solo viaje**.\n",
            "   - **Estimación de tiempo**: Se deben considerar los tiempos de tránsito para cada entrega, pero en términos logísticos, un solo viaje cubre ambos destinos.\n",
            "\n",
            "### Conclusión:\n",
            "Al completar las subtareas, se concluye que **la carga puede ser transportada en un solo viaje**, dada la capacidad de peso y volumen del camión, además de la posibilidad de entregar en ambos destinos.\n"
          ]
        }
      ],
      "source": [
        "prompt_ltm_2 = \"\"\"\"\n",
        "Perfecto, ahora resuleve cada tarea una  a una.\n",
        "\"\"\"\n",
        "\n",
        "response = gpt4o.invoke([s1_ltm,h1_ltm,response, HumanMessage(content=prompt_ltm_2)])\n",
        "print(response.content)"
      ]
    },
    {
      "cell_type": "markdown",
      "metadata": {
        "id": "2dxWdn6rCnk8"
      },
      "source": [
        "# Ejercicio del Mundo Real.\n",
        "\n",
        "Te contratan de una aplicacion que se encarga de hacer entregas de pedidos.\n",
        "La idea es clasificar los pedidos entre spam y ordenes.\n",
        "Una orden tiene puede tener uno o varios items.\n",
        "En un mensaje pueden ir varias ordenes a diferentes destinos.\n"
      ]
    },
    {
      "cell_type": "code",
      "execution_count": null,
      "metadata": {
        "id": "s31eoJhgCnk8"
      },
      "outputs": [],
      "source": [
        "from pydantic import BaseModel\n",
        "from typing import Literal, Optional\n",
        "\n",
        "class OrdernItems(BaseModel):\n",
        "    cantidad: int\n",
        "    producto: str\n",
        "    descripcion: str\n",
        "\n",
        "\n",
        "class Orden(BaseModel):\n",
        "    ref: str\n",
        "    org: str\n",
        "    dest: str\n",
        "    notas: str\n",
        "    items: list[OrdernItems]\n",
        "\n",
        "\n",
        "class OrdenResponse(BaseModel):\n",
        "    type: Literal[\"orden\", \"spam\"] = \"spam\"\n",
        "    orden: Optional[Orden] = None\n"
      ]
    },
    {
      "cell_type": "code",
      "execution_count": null,
      "metadata": {
        "id": "6KjXDli4Cnk8"
      },
      "outputs": [],
      "source": [
        "rec_01 = \"\"\"\n",
        "RESTAURANT RFQ\n",
        "RESTAURANT PO#\n",
        "28162\n",
        "\n",
        "Origen: calle 80 #33-55, Medellín, Antioquia 050025\n",
        "\n",
        "DESTINO FINAL:\n",
        "Medellín, Antioquia 050021\n",
        "destino: Calle 82 #33-55, Medellín, Antioquia 050021\n",
        "\n",
        "\n",
        "INFORMACIÓN DEL ENVÍO:\n",
        "\n",
        "\n",
        "Total de Paquetes:\n",
        "1 pedido\n",
        "Detalles del pedido:\n",
        "\n",
        "Almuerzo ejecutivo: Arroz, carne asada, ensalada, sopa del día, jugo natural.\n",
        "\n",
        "Almuerzo vegetariano: Arroz integral, verduras salteadas, ensalada fresca, crema del día, jugo natural.\n",
        "Descripción del Producto:\n",
        "Menú Ejecutivo del Día (almuerzos variados)\n",
        "\n",
        "Carlos López\n",
        "www.restaurantedelvalle.com\n",
        "T: (301) 456-7890 ext 123\n",
        "D: (304) 321-6543\n",
        "E: contacto@restaurantedelvalle.com\n",
        "A: Restaurante del Valle, Calle 10 #43E-135 Oficina 502, Medellín, Antioquia 050021 Recepción L-V 8:00am a 4:00pm\n",
        "facebook icon  youtube icon  linkedin icon  instagram icon\n",
        "\"\"\"\n",
        "\n",
        "\n",
        "rec_02 = \"\"\"\n",
        "Hola Team,\n",
        "\n",
        "Por favor su gentil soporte con la siguiente quote:\n",
        "\n",
        "Pickup: Restaurante La Esquina, Carrera 70 #45E-50, Medellín, Antioquia 050031\n",
        "\n",
        "Delivery:\n",
        "OFICINA CENTRAL CORPORATIVA\n",
        "Calle 52 #47-42 Oficina 803\n",
        "Medellín, Antioquia 050010\n",
        "\n",
        "DETALLES DE LA CARGA\n",
        "Cantidad: 20 almuerzos ejecutivos\n",
        "Descripción: Bandejas individuales con arroz, proteína, ensalada, sopa del día, postre y bebida.\n",
        "Tipo de carga: Alimentos preparados (no perecederos)\n",
        "\n",
        "Muchas gracias!\n",
        "\n",
        "Juan Carlos Suárez\n",
        "Ventas Internas Nacionales\n",
        "Express Logistics SAS\n",
        "Carrera 43A #5A Sur-220\n",
        "Medellín, Antioquia 050022\n",
        "jcsuarez@expresslogistics.co\n",
        "Miembro certificado ANALDEX: 48251\n",
        "https://expresslogistics.co/\n",
        "\n",
        "\"\"\"\n",
        "\n",
        "\n",
        "rec_03 = \"\"\"\"\n",
        "Buenas tardes,\n",
        "\n",
        "Serían tan amables de cotizar una recolecta conforme a la información proporcionada por favor.\n",
        "\n",
        "DIRECCIÓN DE RECOLECTA:\n",
        "\n",
        "Restaurante Sabor Oriental\n",
        "Carrera 80 #33-55, Medellín, Antioquia 050025\n",
        "\n",
        "DIRECCIÓN DE ENTREGA:\n",
        "\n",
        "OFICINA ADMINISTRATIVA\n",
        "Calle 30A #82A-26 Oficina 402\n",
        "Medellín, Antioquia 050026\n",
        "\n",
        "DATOS DE LA CARGA:\n",
        "\n",
        "Pedido de alimentos preparados.\n",
        "\n",
        "15 cajas de arroz chino individual\n",
        "\n",
        "10 cajas de pollo frito con papas\n",
        "\n",
        "Empaque: cajas térmicas individuales, cada una de 25 x 25 x 15 cm.\n",
        "Peso total aproximado: 18 KG\n",
        "\n",
        "Quedamos atentos.\n",
        "\n",
        "\"\"\"\n",
        "\n",
        "rec_04 = \"\"\"\"\n",
        "Team,\n",
        "\n",
        "Por favor cotizar la siguiente solicitud múltiple de pedidos:\n",
        "\n",
        "Pedido 1:\n",
        "Desde: Restaurante Gourmet Paisa\n",
        "Carrera 70 #45-85, Medellín, Antioquia 050031\n",
        "\n",
        "Hasta: Oficina Central\n",
        "Calle 53 #47-90 Oficina 802, Medellín, Antioquia 050012\n",
        "\n",
        "Detalles:\n",
        "\n",
        "5 platos de Bandeja Paisa\n",
        "\n",
        "5 platos de Mondongo\n",
        "\n",
        "El otro pedido es:\n",
        "Desde: Restaurante Asia Express\n",
        "Carrera 43A #34-95, Medellín, Antioquia 050016\n",
        "\n",
        "Hasta: Oficina Administrativa\n",
        "Calle 34 #76-24 Oficina 501, Medellín, Antioquia 050011\n",
        "\n",
        "Detalles:\n",
        "\n",
        "10 platos de arroz chino especial\n",
        "\n",
        "8 porciones de lumpias\n",
        "\n",
        "Nota:\n",
        "El cliente debe mencionar explícitamente: \"Para pedir estos platos\" al momento de confirmar el pedido.\n",
        "\n",
        "Quedo atento,\n",
        "\n",
        "María Fernanda Vélez\n",
        "Analista de Logística\n",
        "ExpressCargo Antioquia SAS\n",
        "Tel: +57 604 3456789\n",
        "mvelez@expresscargo.co\n",
        "Medellín, Antioquia\n",
        "https://expresscargo.co/\n",
        "\n",
        "\"\"\"\n",
        "\n",
        "\n",
        "rec_05 = \"\"\"\n",
        "Asunto: ¡Felicitaciones Equipo!\n",
        "\n",
        "Hola Equipo,\n",
        "\n",
        "¡Excelente trabajo en los últimos proyectos! Gracias por su dedicación y compromiso.\n",
        "\n",
        "Estoy orgulloso de ustedes.\n",
        "\n",
        "¡Sigamos así!\n",
        "\n",
        "Un abrazo,\n",
        "\n",
        "Juan Carlos Ramírez\n",
        "Gerente General\n",
        "Soluciones Estratégicas SAS\n",
        "Medellín, Antioquia\n",
        "jcramirez@solucionesestrategicas.co\n",
        "https://solucionesestrategicas.co/\n",
        "\n",
        "\"\"\"\n"
      ]
    },
    {
      "cell_type": "code",
      "execution_count": null,
      "metadata": {
        "id": "FgR5fpU4Cnk8"
      },
      "outputs": [],
      "source": []
    }
  ],
  "metadata": {
    "kernelspec": {
      "display_name": ".venv",
      "language": "python",
      "name": "python3"
    },
    "language_info": {
      "codemirror_mode": {
        "name": "ipython",
        "version": 3
      },
      "file_extension": ".py",
      "mimetype": "text/x-python",
      "name": "python",
      "nbconvert_exporter": "python",
      "pygments_lexer": "ipython3",
      "version": "3.10.16"
    },
    "colab": {
      "provenance": []
    }
  },
  "nbformat": 4,
  "nbformat_minor": 0
}